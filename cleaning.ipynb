{
 "cells": [
  {
   "cell_type": "markdown",
   "metadata": {},
   "source": [
    "#### Imports"
   ]
  },
  {
   "cell_type": "code",
   "execution_count": 1,
   "metadata": {},
   "outputs": [
    {
     "name": "stderr",
     "output_type": "stream",
     "text": [
      "/Library/Frameworks/Python.framework/Versions/3.10/lib/python3.10/site-packages/xgboost/compat.py:36: FutureWarning: pandas.Int64Index is deprecated and will be removed from pandas in a future version. Use pandas.Index with the appropriate dtype instead.\n",
      "  from pandas import MultiIndex, Int64Index\n"
     ]
    }
   ],
   "source": [
    "import pandas as pd\n",
    "import numpy as np\n",
    "import folium\n",
    "import matplotlib.pyplot as plt\n",
    "from mpl_toolkits import mplot3d\n",
    "import random as rd\n",
    "import sklearn.model_selection as sk\n",
    "from sklearn.preprocessing import StandardScaler\n",
    "from sklearn.decomposition import PCA\n",
    "from sklearn.impute import SimpleImputer\n",
    "from sklearn.neighbors import KNeighborsClassifier\n",
    "from xgboost import XGBClassifier"
   ]
  },
  {
   "cell_type": "markdown",
   "metadata": {},
   "source": [
    "#### Load Data Files"
   ]
  },
  {
   "cell_type": "code",
   "execution_count": 2,
   "metadata": {},
   "outputs": [],
   "source": [
    "# test files\n",
    "test_month_1 = pd.read_csv('data/test_month_1.csv')\n",
    "test_month_2 = pd.read_csv('data/test_month_2.csv')\n",
    "test_month_3 = pd.read_csv('data/test_month_3.csv')\n",
    "\n",
    "# train files\n",
    "train_month_1 = pd.read_csv('data/train_month_1.csv')\n",
    "train_month_2 = pd.read_csv('data/train_month_2.csv')\n",
    "train_month_3_with_target = pd.read_csv('data/train_month_3_with_target.csv')"
   ]
  },
  {
   "cell_type": "markdown",
   "metadata": {},
   "source": [
    "#### Transform"
   ]
  },
  {
   "cell_type": "code",
   "execution_count": 3,
   "metadata": {},
   "outputs": [],
   "source": [
    "# convert the dates into days before 2018 \n",
    "train_month_3_with_target[\"customer_since_all\"] = (pd.to_datetime(\"2018-01\") - pd.to_datetime(train_month_3_with_target[\"customer_since_all\"])).dt.days / 365.5\n",
    "train_month_3_with_target[\"customer_birth_date\"] = (pd.to_datetime(\"2018-01\") - pd.to_datetime(train_month_3_with_target[\"customer_birth_date\"])).dt.days / 365.5\n",
    "train_month_3_with_target[\"customer_since_bank\"] = (pd.to_datetime(\"2018-01\") - pd.to_datetime(train_month_3_with_target[\"customer_since_bank\"])).dt.days / 365.5\n",
    "\n",
    "# dummies for categorical variables\n",
    "train_month_3_with_target = pd.DataFrame(pd.get_dummies(train_month_3_with_target, \n",
    "                                   columns = [\"customer_education\", \"customer_occupation_code\", \"customer_children\", \"customer_relationship\"], \n",
    "                                   dummy_na=True))\n",
    "\n",
    "# drop unwanted columns client id \n",
    "train_month_3_with_target = train_month_3_with_target.drop([\"client_id\"], axis=1)\n",
    "\n",
    "# retain information of NAs in customer_since_all_na and customer_since_bank_na\n",
    "train_month_3_with_target['customer_since_all_na'] = np.where(train_month_3_with_target.customer_since_all.notnull(), '0', '1')\n",
    "train_month_3_with_target['customer_since_bank_na'] = np.where(train_month_3_with_target.customer_since_bank.notnull(), '0', '1')"
   ]
  },
  {
   "cell_type": "markdown",
   "metadata": {},
   "source": [
    "#### Split the Set (rework this maybe)"
   ]
  },
  {
   "cell_type": "code",
   "execution_count": 62,
   "metadata": {},
   "outputs": [],
   "source": [
    "# Train Test Split to prevent data pollution\n",
    "y = train_month_3_with_target['target']\n",
    "X = train_month_3_with_target.drop(['target'], axis = 1)\n",
    "X_train, X_val, y_train, y_val = sk.train_test_split(X, y, test_size=0.3, stratify=y)"
   ]
  },
  {
   "cell_type": "markdown",
   "metadata": {},
   "source": [
    "#### Imputing and Feature Engineering"
   ]
  },
  {
   "cell_type": "code",
   "execution_count": 63,
   "metadata": {},
   "outputs": [],
   "source": [
    "# mean impute for rest of missings\n",
    "imputer = SimpleImputer(missing_values=np.nan, strategy='mean')\n",
    "\n",
    "imputer = imputer.fit(X_train)\n",
    "X_train = pd.DataFrame(imputer.transform(X_train), columns= X_train.columns)\n",
    "\n",
    "X_val = pd.DataFrame(imputer.transform(X_val), columns= X_val.columns)\n",
    "\n",
    "# calculate the frequency of churners in the training set an map the values to the validation set\n",
    "X_train.reset_index(drop=True, inplace=True)\n",
    "y_train.reset_index(drop=True, inplace=True)\n",
    "\n",
    "\n",
    "\n",
    "# aggr_mean = aggr[\"target\"].mean()\n",
    "#train_month_3_with_target = train_month_3_with_target.drop([\"customer_postal_code\"], axis=1)"
   ]
  },
  {
   "cell_type": "code",
   "execution_count": 67,
   "metadata": {},
   "outputs": [
    {
     "name": "stdout",
     "output_type": "stream",
     "text": [
      "set()\n"
     ]
    },
    {
     "data": {
      "text/plain": [
       "44425"
      ]
     },
     "execution_count": 67,
     "metadata": {},
     "output_type": "execute_result"
    }
   ],
   "source": [
    "aggr = pd.concat([X_train, y_train], axis = 1).groupby(\"customer_postal_code\")[[\"customer_postal_code\", \"target\"]].sum()\n",
    "aggr[\"customer_postal_code\"] == aggr[\"customer_postal_code\"].astype(int)\n",
    "\n",
    "ag_new = pd.Series(aggr.target.values,index=aggr.customer_postal_code).to_dict()\n",
    "#ag_new = aggr.set_index(\"customer_postal_code\").T.to_dict(\"list\")\n",
    "\n",
    "#\n",
    "X_train[\"customer_postal_code\"] = X_train[\"customer_postal_code\"].astype(int)\n",
    "print((set(X_train[\"customer_postal_code\"].unique()) - set(pd.concat([X_train, y_train], axis = 1)[\"customer_postal_code\"].unique())))\n",
    "X_train[\"customer_postal_code\"].map(ag_new).isna().sum(axis = 0) #.fillna(aggr[\"target\"].mean())"
   ]
  },
  {
   "cell_type": "code",
   "execution_count": 93,
   "metadata": {},
   "outputs": [
    {
     "data": {
      "text/plain": [
       "customer_postal_code\n",
       "0         9\n",
       "1000     71\n",
       "1020     78\n",
       "1030    180\n",
       "1040     59\n",
       "       ... \n",
       "9982      8\n",
       "9988     10\n",
       "9990    219\n",
       "9991     69\n",
       "9992      2\n",
       "Name: customer_postal_code, Length: 1031, dtype: int64"
      ]
     },
     "execution_count": 93,
     "metadata": {},
     "output_type": "execute_result"
    }
   ],
   "source": [
    "# difference after merge \n",
    "set(pd.concat([X_train, y_train], axis = 1)[\"customer_postal_code\"].unique()) - set(X_train[\"customer_postal_code\"].unique())\n",
    "\n",
    "# difference after group by \n",
    "pd.concat([X_train, y_train], axis = 1).groupby(\"customer_postal_code\")[\"customer_postal_code\"].count()\n",
    "#set(pd.concat([X_train, y_train], axis = 1)[\"customer_postal_code\"].unique()) - set(X_train[\"customer_postal_code\"].unique())\n"
   ]
  },
  {
   "cell_type": "code",
   "execution_count": 90,
   "metadata": {},
   "outputs": [
    {
     "data": {
      "text/plain": [
       "1019"
      ]
     },
     "execution_count": 90,
     "metadata": {},
     "output_type": "execute_result"
    }
   ],
   "source": [
    "\n",
    "# group by appears to remove certain postal codes?????? But WHY???\n",
    "aggr = pd.concat([X_train, y_train], axis = 1).groupby(\"customer_postal_code\")[[\"customer_postal_code\", \"target\"]].sum().drop([\"customer_postal_code\"], axis=1)\n",
    "len(set(pd.concat([X_train, y_train], axis = 1)[\"customer_postal_code\"].unique()) - set(pd.concat([X_train, y_train], axis = 1).groupby(\"customer_postal_code\")[[\"customer_postal_code\", \"target\"]].sum()[\"customer_postal_code\"].unique()))\n",
    "\n",
    "\n",
    "\n",
    "\n"
   ]
  },
  {
   "cell_type": "markdown",
   "metadata": {},
   "source": [
    "#### End of Script"
   ]
  },
  {
   "cell_type": "code",
   "execution_count": 7,
   "metadata": {},
   "outputs": [
    {
     "name": "stdout",
     "output_type": "stream",
     "text": [
      "==================================================================\n",
      "cleaning.ipynb has been successfully run!\n"
     ]
    }
   ],
   "source": [
    "print(\"==================================================================\")\n",
    "print(\"cleaning.ipynb has been successfully run!\")"
   ]
  }
 ],
 "metadata": {
  "interpreter": {
   "hash": "aee8b7b246df8f9039afb4144a1f6fd8d2ca17a180786b69acc140d282b71a49"
  },
  "kernelspec": {
   "display_name": "Python 3.9.2 64-bit",
   "language": "python",
   "name": "python3"
  },
  "language_info": {
   "codemirror_mode": {
    "name": "ipython",
    "version": 3
   },
   "file_extension": ".py",
   "mimetype": "text/x-python",
   "name": "python",
   "nbconvert_exporter": "python",
   "pygments_lexer": "ipython3",
   "version": "3.10.3"
  },
  "orig_nbformat": 4
 },
 "nbformat": 4,
 "nbformat_minor": 2
}
