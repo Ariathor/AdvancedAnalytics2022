{
 "cells": [
  {
   "cell_type": "markdown",
   "id": "b59a391e",
   "metadata": {},
   "source": [
    "This assignment seeks to perform a task of object localization in that a convolutional neural network (CNN) is trained to locate swimming pools in images by placing bounding boxes around them."
   ]
  },
  {
   "cell_type": "markdown",
   "id": "fee931c0",
   "metadata": {},
   "source": [
    "The dataset consists of 14912 images with swimming pool in the centre. The dataset is split into training, validation and test set with a ratio of 60:20:20 (i.e. 8946 images for the traning set and 2983 images for both validation and test set). As required for most neural networks, the three sets are normalized with the weights of the training data."
   ]
  },
  {
   "cell_type": "markdown",
   "id": "3be2ce1e",
   "metadata": {},
   "source": [
    "For our model, we have utilised transfer learning to speed up the learning process. Transfer learning refers to the method of building one’s model upon a pre-trained model. Specifically for our model, it is built on a model pre-trained on ImageNet. The parameters of the first 91 layers of the pre-trained model are ‘frozen’ and our model then attached a fully connected neural net with the ReLU activation function and with four output units on top to represent the four corners of a bounding box. In total, the model has 574,404 parameters with 273,344 non-trainable parameters from the pre-trained model and 301,060 trainable parameters from the fully connected neural net. "
   ]
  },
  {
   "cell_type": "markdown",
   "id": "a50ca1cc",
   "metadata": {},
   "source": [
    "The model is trained using the Adam optimizer. The Adam optimizer is computationally efficient and it varies the learning rate of the optimizer based on the first and second moments of the gradient, thus combining the advantages of both AdaGrad and RMSProp. (Kingma and Ba, 2015). The loss function is defined as the mean squared errors."
   ]
  },
  {
   "cell_type": "markdown",
   "id": "0fb80a33",
   "metadata": {},
   "source": [
    "To prevent overfitting, we have introduced early stopping to the model. With early stopping, we specify the algorithm to stop training once the loss of the validation set starts increasing. As a result, the model is trained for only two epochs."
   ]
  },
  {
   "cell_type": "code",
   "execution_count": null,
   "id": "60054fed",
   "metadata": {},
   "outputs": [],
   "source": []
  }
 ],
 "metadata": {
  "kernelspec": {
   "display_name": "Python 3 (ipykernel)",
   "language": "python",
   "name": "python3"
  },
  "language_info": {
   "codemirror_mode": {
    "name": "ipython",
    "version": 3
   },
   "file_extension": ".py",
   "mimetype": "text/x-python",
   "name": "python",
   "nbconvert_exporter": "python",
   "pygments_lexer": "ipython3",
   "version": "3.9.7"
  }
 },
 "nbformat": 4,
 "nbformat_minor": 5
}
