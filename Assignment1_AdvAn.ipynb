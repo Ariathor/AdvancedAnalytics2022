{
 "cells": [
  {
   "cell_type": "markdown",
   "metadata": {},
   "source": [
    "# Assignment 1\n",
    "## Task Description\n",
    "\n",
    "<div style=\"text-align: justify\">\n",
    "\n",
    "Construct a predictive model to predict the target.\n",
    "\n",
    "The test set does not contain the target, so you will need to split up the train set accordingly into your own validation set. The test set supplied here is used to rank and assess your model on the competition leaderboard\n",
    "Your model will be evaluated as follows: for the top-250 cases predicted by your model, we count the number of hits (true positives), i.e. precision@250. We focus on the top-250 only as there's only a limited amount of time and resources to investigate risky customers. AUC is also shown on the leaderboard for informational purposes\n",
    "There are more than 500 churners present in the test set, though note that only 50% of the test set is used for the public leaderboard\n",
    "The large degree of class imbalance, the way how the target was defined, the way how your model is evaluated, and possibilities for feature engineering will make for challenges to overcome\n",
    "Instructions:\n",
    "\n",
    "The goal is not to \"win\", but to help you reflect on your model's results, see how others are doing, etc.\n",
    "The leaderboard is based on the number of true positives in the top-250 cases. The results of your latest submission are used to rank\n",
    "This means it is your job to keep track of different model versions / approaches / outputs in case you'd like to go back to an earlier result\n",
    "The \"public\" leaderboard calculates your score for a predetermined set 50% of the instances in the test set\n",
    "Later on, the leaderboard will be frozen (you'll be warned in advance) and the other 50% results (hidden leaderboard) will be shown\n",
    "You should then reflect on both results and explain accordingly in your report. E.g. if you did well on the public leaderboard but not on the hidden one, what might have caused this?\n",
    "Also take some time the reflect on the score measure being used here. Is the the measure you'd have chosen in this setting? How does the score compare to the AUC of your model?\n",
    "Reflect on the features and target definition. What would you change? How would your model be able to do better? Do you agree with the way the target was established or not?\n",
    "Your model needs to be build using R, Python (or Julia, if you so prefer). As an environment, you can use e.g. Jupyter (Notebook or Lab), RStudio, Google Colaboratory, Microsoft Azure Machine Learning Studio... and any additional library or package you want\n",
    "The first part of your lab report should contain a clear overview of your whole modeling pipeline, including approach, exploratory analysis (if any), preprocessing, construction of model, set-up of validation and results of the model:\n",
    "\n",
    "Feel free to include code fragments, tables, visualisations, etc.\n",
    "You can use any predictive technique/approach you want. The focus is not on the absolute outcome, but rather on the whole process: general setup, critical thinking, and the ability to get and validate an outcome\n",
    "You're free to use unsupervised technique for your data exploration part, too. When you decide to build a black box model, including some interpretability techniques to explain it is a plus\n",
    "Any other assumptions or insights are thoughts can be included as well: the idea is to take what we've seen in class, get your hands dirty and reflect on what we've seen\n",
    "Important: All groups should submit the results of their predictive model at least once to the leaderboard.\n",
    "\n",
    "</div>"
   ]
  },
  {
   "cell_type": "markdown",
   "metadata": {},
   "source": [
    "\n",
    "## Features \n",
    "\n",
    "Features:\n",
    "\n",
    "client_id: unique identifier per customer (anonymized hash); not to be used as a feature \n",
    "\n",
    "homebanking_active: whether the customer used / logged into home banking (Internet or Mobile app) this month\n",
    "\n",
    "has_homebanking: whether the customer has activated home banking (Internet of Mobile app)\n",
    "\n",
    "has_insurance_21: whether the customer owns \"tak 21\" life insurance products\n",
    "\n",
    "has_insurance_23: whether the customer owns \"tak 23\" life insurance products\n",
    "\n",
    "has_life_insurance_fixed_cap: whether the customer owns life insurance with fixed capital\n",
    "\n",
    "has_life_insurance_decreasing_cap: whether the customer owns life insurance with decreasing capital\n",
    "\n",
    "has_fire_car_other_insurance: whether the customer has fire/car/other insurance\n",
    "\n",
    "has_personal_loan: whether the customer has an outstanding personal loan\n",
    "\n",
    "has_mortgage_loan: whether the customer has an outstanding mortgage loan\n",
    "\n",
    "has_current_account: whether the customer has a current (checkings) account\n",
    "\n",
    "has_pension_saving: whether the customer has a pension (retirement) savings account\n",
    "\n",
    "has_savings_account: whether the customer has a savings account\n",
    "\n",
    "has_current_account_starter: whether the customer has a \"starter\" (a product offering some discounts and typically offered to new or younger customers) current (checkings) account\n",
    "\n",
    "has_savings_account_starter: whether the customer has a \"starter\" (a product offering some discounts and typically offered to new or younger customers) savings account\n",
    "\n",
    "bal_insurance_21: balance on \"tak 21\" life insurance\n",
    "\n",
    "bal_insurance_23: balance on \"tak 23\" life insurance\n",
    "\n",
    "cap_life_insurance_fixed_cap: capital for life insurance with fixed capital\n",
    "\n",
    "cap_life_insurance_decreasing_cap: capital for life insurance with decreasing capital\n",
    "\n",
    "prem_fire_car_other_insurance: premiums paid for fire/car/other insurance\n",
    "\n",
    "bal_personal_loan: outstanding balance on personal loans\n",
    "\n",
    "bal_mortgage_loan: outstanding balance on mortgage loans\n",
    "\n",
    "bal_current_account: balance on current (checkings) accounts\n",
    "\n",
    "bal_pension_saving: balance on pension (retirement) savings accounts\n",
    "\n",
    "bal_savings_account: balance on savings accounts\n",
    "\n",
    "bal_current_account_starter: balance on starter current (checkings) accounts\n",
    "\n",
    "bal_savings_account_starter: balance on starter savings accounts\n",
    "\n",
    "visits_distinct_so: how many different sales offices were visited in the past month by this customer (number of visits per office is not available)\n",
    "\n",
    "visits_distinct_so_areas: how many different sales office areas were visited in the past month by this customer\n",
    "\n",
    "customer_since_all: since when has the customer been a client for either bank or insurance products (YYYY-MM)\n",
    "\n",
    "customer_since_bank: since when has the customer been a client for bank products (YYYY-MM)\n",
    "\n",
    "customer_gender: gender code\n",
    "\n",
    "customer_birth_date: date of birth (YYYY-MM)\n",
    "\n",
    "customer_postal_code: postal code where the customer lives\n",
    "\n",
    "customer_occupation_code: occupation (job) code\n",
    "\n",
    "customer_self_employed: whether the customer is self-employed\n",
    "\n",
    "customer_education: code of education level\n",
    "\n",
    "customer_children: this describes family situation: either no children (no), one baby or toddler (onebaby), preschool child(ren) (preschool), children in secondary school (young), children in high school (adolescent), children between 18-24 (mature), children older than 24 (grownup), or children but without further details (yes)\n",
    "\n",
    "customer_relationship: this describes the marital situation: single (single), living together or married (couple). Note that divorced persons and widowers are also indicated as single\n",
    "\n",
    "target: target (1 or 0)\n",
    "\n",
    "\n",
    "Monetary values were rounded at tens of euros. Extremely affluent customers or customers with large negative balances were not included. Missing values are represented as \"NA\". Given the real-life nature of the data set, expect other data quality issues as well.\n"
   ]
  },
  {
   "cell_type": "markdown",
   "metadata": {},
   "source": [
    "## Setup "
   ]
  },
  {
   "cell_type": "code",
   "execution_count": 19,
   "metadata": {},
   "outputs": [],
   "source": [
    "import pandas as pd\n",
    "import numpy as np\n",
    "import matplotlib.pyplot as plt\n",
    "import random as rd"
   ]
  },
  {
   "cell_type": "code",
   "execution_count": 22,
   "metadata": {},
   "outputs": [
    {
     "name": "stdout",
     "output_type": "stream",
     "text": [
      "[[0.81070478 0.58335954 0.8881808  0.85845473 0.54796706]]\n"
     ]
    }
   ],
   "source": [
    "\n",
    "\n",
    "\n",
    "\n"
   ]
  }
 ],
 "metadata": {
  "interpreter": {
   "hash": "aee8b7b246df8f9039afb4144a1f6fd8d2ca17a180786b69acc140d282b71a49"
  },
  "kernelspec": {
   "display_name": "Python 3.9.2 64-bit",
   "language": "python",
   "name": "python3"
  },
  "language_info": {
   "codemirror_mode": {
    "name": "ipython",
    "version": 3
   },
   "file_extension": ".py",
   "mimetype": "text/x-python",
   "name": "python",
   "nbconvert_exporter": "python",
   "pygments_lexer": "ipython3",
   "version": "3.9.2"
  },
  "orig_nbformat": 4
 },
 "nbformat": 4,
 "nbformat_minor": 2
}
